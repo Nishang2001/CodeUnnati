{
 "cells": [
  {
   "cell_type": "markdown",
   "id": "7defee2e",
   "metadata": {},
   "source": [
    "# Python String"
   ]
  },
  {
   "cell_type": "code",
   "execution_count": 1,
   "id": "14123f14",
   "metadata": {},
   "outputs": [
    {
     "name": "stdout",
     "output_type": "stream",
     "text": [
      "2329101691472 2329101691472 2329101691472\n"
     ]
    }
   ],
   "source": [
    "a=b=c=10\n",
    "\n",
    "print(id(a),id(b),id(c))"
   ]
  },
  {
   "cell_type": "code",
   "execution_count": 8,
   "id": "08d6dcfa",
   "metadata": {},
   "outputs": [
    {
     "data": {
      "text/plain": [
       "2329101691472"
      ]
     },
     "execution_count": 8,
     "metadata": {},
     "output_type": "execute_result"
    }
   ],
   "source": [
    "d=10\n",
    "id(d)"
   ]
  },
  {
   "cell_type": "code",
   "execution_count": 9,
   "id": "3dff259b",
   "metadata": {},
   "outputs": [
    {
     "data": {
      "text/plain": [
       "2329101691504"
      ]
     },
     "execution_count": 9,
     "metadata": {},
     "output_type": "execute_result"
    }
   ],
   "source": [
    "d=11\n",
    "id(d)"
   ]
  },
  {
   "cell_type": "code",
   "execution_count": 11,
   "id": "d253d0e6",
   "metadata": {},
   "outputs": [
    {
     "name": "stdout",
     "output_type": "stream",
     "text": [
      "<class 'str'>\n"
     ]
    },
    {
     "data": {
      "text/plain": [
       "2329188230832"
      ]
     },
     "execution_count": 11,
     "metadata": {},
     "output_type": "execute_result"
    }
   ],
   "source": [
    "z=\"my name vatsal\"\n",
    "print(type(z))\n",
    "id(z)"
   ]
  },
  {
   "cell_type": "code",
   "execution_count": 20,
   "id": "dc4281a2",
   "metadata": {},
   "outputs": [
    {
     "name": "stdout",
     "output_type": "stream",
     "text": [
      "y name va\n",
      "my name va\n",
      " vatsal\n",
      "\n"
     ]
    }
   ],
   "source": [
    "#string slice\n",
    "\n",
    "print(z[1:10])\n",
    "print(z[:10])\n",
    "print(z[7:])\n",
    "\n",
    "# ALWAY SLIDE FROM LEFT TO RIGHT\n",
    "#first small number then large\n",
    "# Example\n",
    "\n",
    "print(z[-1:-3])"
   ]
  },
  {
   "cell_type": "code",
   "execution_count": 28,
   "id": "34e6f201",
   "metadata": {},
   "outputs": [
    {
     "name": "stdout",
     "output_type": "stream",
     "text": [
      "Vatsal Agola \n",
      "Agola Vatsal \n",
      "Agola Vatsal \n"
     ]
    }
   ],
   "source": [
    "# String Formating\n",
    "\n",
    "str1=\"{} {} {}\".format(\"Vatsal\",\"Agola\",\"\")\n",
    "print(str1)\n",
    "\n",
    "str2=\"{a} {b} {c}\".format(b=\"Vatsal\",a=\"Agola\",c=\"\")\n",
    "print(str2)\n",
    "\n",
    "str2=\"{1} {0} {2}\".format(\"Vatsal\",\"Agola\",\"\")\n",
    "print(str2)"
   ]
  },
  {
   "cell_type": "markdown",
   "id": "6af6d44b",
   "metadata": {},
   "source": [
    "# Python list"
   ]
  },
  {
   "cell_type": "code",
   "execution_count": 36,
   "id": "e9e2b9aa",
   "metadata": {},
   "outputs": [
    {
     "name": "stdout",
     "output_type": "stream",
     "text": [
      "[1, 'raj', 'jay', 5, 4]\n",
      "raj\n",
      "4\n",
      "[1, 'raj', 'jay']\n",
      "[1, 'raj', 10, 5, 4]\n",
      "<class 'int'>\n",
      "<class 'str'>\n"
     ]
    }
   ],
   "source": [
    "l=[1,'raj','jay',5,4]\n",
    "\n",
    "print(l)\n",
    "print(l[1])\n",
    "print(l[-1])\n",
    "print(l[0:3])\n",
    "\n",
    "#Update List\n",
    "l[2]=10\n",
    "print(l)\n",
    "\n",
    "#print Type by index\n",
    "print(type(l[0]))\n",
    "print(type(l[1]))\n",
    "\n"
   ]
  },
  {
   "cell_type": "markdown",
   "id": "ab31e914",
   "metadata": {},
   "source": [
    "# Tuples"
   ]
  },
  {
   "cell_type": "code",
   "execution_count": 40,
   "id": "4363dc96",
   "metadata": {},
   "outputs": [
    {
     "data": {
      "text/plain": [
       "(1, 'raj', 'jay', 5, 4, 1, 'raj', 'jay', 5, 4)"
      ]
     },
     "execution_count": 40,
     "metadata": {},
     "output_type": "execute_result"
    }
   ],
   "source": [
    "# tuples are immutable datatype\n",
    "#all  operations are same as list\n",
    "\n",
    "tpl1=(1,'raj','jay',5,4)\n",
    "tpl2=(2,3,4)\n",
    "\n",
    "tpl1+tpl2\n",
    "tpl1*2"
   ]
  },
  {
   "cell_type": "markdown",
   "id": "ac6820d2",
   "metadata": {},
   "source": [
    "# Dictionary"
   ]
  },
  {
   "cell_type": "code",
   "execution_count": 56,
   "id": "40699257",
   "metadata": {},
   "outputs": [
    {
     "name": "stdout",
     "output_type": "stream",
     "text": [
      "{1: 'Vinayak', 2: 'jay', 3: 'Raj'}\n",
      "Vinayak\n",
      "vatsal\n"
     ]
    }
   ],
   "source": [
    "a={1:\"vatsal\",2:\"jay\",3:\"Raj\"}\n",
    "\n",
    "#update\n",
    "a[1]=\"Vinayak\"\n",
    "print(a)\n",
    "\n",
    "#indexing\n",
    "print(a[1])\n",
    "\n",
    "a={\"one\":\"vatsal\",\"two\":\"jay\",\"three\":\"Raj\"}\n",
    "print(a['one'])\n"
   ]
  },
  {
   "cell_type": "code",
   "execution_count": null,
   "id": "823625b2",
   "metadata": {},
   "outputs": [],
   "source": []
  }
 ],
 "metadata": {
  "kernelspec": {
   "display_name": "Python 3 (ipykernel)",
   "language": "python",
   "name": "python3"
  },
  "language_info": {
   "codemirror_mode": {
    "name": "ipython",
    "version": 3
   },
   "file_extension": ".py",
   "mimetype": "text/x-python",
   "name": "python",
   "nbconvert_exporter": "python",
   "pygments_lexer": "ipython3",
   "version": "3.9.12"
  }
 },
 "nbformat": 4,
 "nbformat_minor": 5
}
