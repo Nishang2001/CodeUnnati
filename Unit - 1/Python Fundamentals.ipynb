{
 "cells": [
  {
   "cell_type": "markdown",
   "id": "56d7d76a",
   "metadata": {},
   "source": [
    "# Python Basics\n",
    "# Python fundamentals variables\n",
    "\n",
    "# Python Coding"
   ]
  },
  {
   "cell_type": "code",
   "execution_count": 1,
   "id": "bc4c9818",
   "metadata": {},
   "outputs": [
    {
     "name": "stdout",
     "output_type": "stream",
     "text": [
      "Hello Neotech\n"
     ]
    }
   ],
   "source": [
    "print(\"Hello Neotech\")"
   ]
  },
  {
   "cell_type": "markdown",
   "id": "709ac546",
   "metadata": {},
   "source": [
    "# Python Variable"
   ]
  },
  {
   "cell_type": "code",
   "execution_count": 2,
   "id": "3081d35f",
   "metadata": {},
   "outputs": [
    {
     "name": "stdout",
     "output_type": "stream",
     "text": [
      "Rahul\n"
     ]
    }
   ],
   "source": [
    "print(\"Rahul\")"
   ]
  },
  {
   "cell_type": "code",
   "execution_count": 6,
   "id": "cc6ced80",
   "metadata": {},
   "outputs": [
    {
     "data": {
      "text/plain": [
       "100"
      ]
     },
     "execution_count": 6,
     "metadata": {},
     "output_type": "execute_result"
    }
   ],
   "source": [
    "var1 = \"Python\"\n",
    "var1\n",
    "a\n",
    "b\n",
    "\n",
    "sum = a+b\n",
    "sum"
   ]
  },
  {
   "cell_type": "markdown",
   "id": "790fb961",
   "metadata": {},
   "source": []
  },
  {
   "cell_type": "markdown",
   "id": "7cedd174",
   "metadata": {},
   "source": [
    "# Variable Code-2"
   ]
  },
  {
   "cell_type": "code",
   "execution_count": 6,
   "id": "86787661",
   "metadata": {},
   "outputs": [
    {
     "name": "stdout",
     "output_type": "stream",
     "text": [
      "Sum = 100\n",
      "Sub = 450\n",
      "Multi = 25\n",
      "Div = 10.0\n"
     ]
    }
   ],
   "source": [
    "#add\n",
    "\n",
    "var1=50\n",
    "var2=50\n",
    "\n",
    "var3=var1+var2\n",
    "print(\"Sum =\",var3)\n",
    "\n",
    "#sub\n",
    "\n",
    "var4=500\n",
    "var5=50\n",
    "\n",
    "var6=var4-var5\n",
    "print(\"Sub =\",var6)\n",
    "\n",
    "#multi\n",
    "\n",
    "var7=5\n",
    "var8=5\n",
    "\n",
    "var9=var7*var8\n",
    "print(\"Multi =\",var9)\n",
    "\n",
    "#div\n",
    "\n",
    "var10=50\n",
    "var11=5\n",
    "\n",
    "var12=var10/var11\n",
    "print(\"Div =\",var12)\n",
    "\n",
    "\n"
   ]
  },
  {
   "cell_type": "code",
   "execution_count": 10,
   "id": "ca00a41d",
   "metadata": {},
   "outputs": [
    {
     "name": "stdout",
     "output_type": "stream",
     "text": [
      "My name is Nishang\n",
      "100,1000,Nishang\n",
      "4,5,Neotech\n"
     ]
    }
   ],
   "source": [
    "count = 100\n",
    "km = 1000\n",
    "name = \"Nishang\"\n",
    "a,b,c = 4,5,\"Neotech\"\n",
    "\n",
    "print(\"My name is Nishang\")\n",
    "print(count,km,name, sep = ',')\n",
    "print(a,b,c,sep = ',')"
   ]
  },
  {
   "cell_type": "code",
   "execution_count": 15,
   "id": "0cce0c33",
   "metadata": {},
   "outputs": [
    {
     "name": "stdout",
     "output_type": "stream",
     "text": [
      "1 1 1\n"
     ]
    }
   ],
   "source": [
    "a=b=c=1\n",
    "\n",
    "a\n",
    "b\n",
    "c\n",
    "\n",
    "print(a,b,c)"
   ]
  },
  {
   "cell_type": "markdown",
   "id": "fe148861",
   "metadata": {},
   "source": [
    "# Datatypes"
   ]
  },
  {
   "cell_type": "code",
   "execution_count": 16,
   "id": "e7d53d00",
   "metadata": {},
   "outputs": [
    {
     "data": {
      "text/plain": [
       "15"
      ]
     },
     "execution_count": 16,
     "metadata": {},
     "output_type": "execute_result"
    }
   ],
   "source": [
    "x,y,z=13,14,15\n",
    "\n",
    "z"
   ]
  },
  {
   "cell_type": "code",
   "execution_count": 17,
   "id": "d74ee4a7",
   "metadata": {},
   "outputs": [],
   "source": [
    "del z"
   ]
  },
  {
   "cell_type": "code",
   "execution_count": 18,
   "id": "919764ae",
   "metadata": {},
   "outputs": [
    {
     "ename": "NameError",
     "evalue": "name 'z' is not defined",
     "output_type": "error",
     "traceback": [
      "\u001b[1;31m---------------------------------------------------------------------------\u001b[0m",
      "\u001b[1;31mNameError\u001b[0m                                 Traceback (most recent call last)",
      "Input \u001b[1;32mIn [18]\u001b[0m, in \u001b[0;36m<cell line: 1>\u001b[1;34m()\u001b[0m\n\u001b[1;32m----> 1\u001b[0m \u001b[43mz\u001b[49m\n",
      "\u001b[1;31mNameError\u001b[0m: name 'z' is not defined"
     ]
    }
   ],
   "source": [
    "z"
   ]
  },
  {
   "cell_type": "code",
   "execution_count": 21,
   "id": "f0f75e0a",
   "metadata": {},
   "outputs": [
    {
     "name": "stdout",
     "output_type": "stream",
     "text": [
      "<class 'int'>\n",
      "<class 'float'>\n",
      "<class 'complex'>\n",
      "<class 'str'>\n",
      "<class 'bool'>\n"
     ]
    }
   ],
   "source": [
    "a=67\n",
    "b=99.9999\n",
    "c=3.14j\n",
    "d= \"Navratri\"\n",
    "e=True\n",
    "\n",
    "print(type(a))\n",
    "print(type(b))\n",
    "print(type(c))\n",
    "print(type(d))\n",
    "print(type(e))"
   ]
  },
  {
   "cell_type": "code",
   "execution_count": 22,
   "id": "4b7415e0",
   "metadata": {},
   "outputs": [
    {
     "name": "stdout",
     "output_type": "stream",
     "text": [
      "Enter the value of x: 5\n",
      "Enter the value of y: 10\n"
     ]
    },
    {
     "data": {
      "text/plain": [
       "50"
      ]
     },
     "execution_count": 22,
     "metadata": {},
     "output_type": "execute_result"
    }
   ],
   "source": [
    "#how to get input from user\n",
    "#ask the user to enter the value of x and store it in variable\n",
    "x = int(input(\"Enter the value of x: \"))\n",
    "\n",
    "#ask the user to enter the value of y and store it in variable\n",
    "y = int(input(\"Enter the value of y: \"))\n",
    "\n",
    "#perform any mathematicle operation on user input\n",
    "\n",
    "z=x*y\n",
    "\n",
    "#print thr answer\n",
    "\n",
    "z"
   ]
  },
  {
   "cell_type": "code",
   "execution_count": 31,
   "id": "b15e614e",
   "metadata": {},
   "outputs": [
    {
     "data": {
      "text/plain": [
       "'I like python programming, '"
      ]
     },
     "execution_count": 31,
     "metadata": {},
     "output_type": "execute_result"
    }
   ],
   "source": [
    "# python string\n",
    "\n",
    "str1=\"I like python programming, \"\n",
    "str1\n"
   ]
  },
  {
   "cell_type": "code",
   "execution_count": 27,
   "id": "40da424c",
   "metadata": {},
   "outputs": [
    {
     "data": {
      "text/plain": [
       "'My name is Nishang'"
      ]
     },
     "execution_count": 27,
     "metadata": {},
     "output_type": "execute_result"
    }
   ],
   "source": [
    "str2 = \"My name is Nishang\"\n",
    "str2"
   ]
  },
  {
   "cell_type": "code",
   "execution_count": 32,
   "id": "7b059a79",
   "metadata": {},
   "outputs": [
    {
     "data": {
      "text/plain": [
       "'I like python programming, My name is Nishang'"
      ]
     },
     "execution_count": 32,
     "metadata": {},
     "output_type": "execute_result"
    }
   ],
   "source": [
    "str3 = str1+str2\n",
    "str3"
   ]
  },
  {
   "cell_type": "code",
   "execution_count": 33,
   "id": "a0ceb132",
   "metadata": {},
   "outputs": [
    {
     "name": "stdout",
     "output_type": "stream",
     "text": [
      "University\n",
      "10\n"
     ]
    }
   ],
   "source": [
    "# string indexing and slicing\n",
    "\n",
    "name = \"University\"\n",
    "print(name)\n",
    "print(len(name))"
   ]
  },
  {
   "cell_type": "code",
   "execution_count": 38,
   "id": "5baf7562",
   "metadata": {},
   "outputs": [
    {
     "data": {
      "text/plain": [
       "'U'"
      ]
     },
     "execution_count": 38,
     "metadata": {},
     "output_type": "execute_result"
    }
   ],
   "source": [
    "name[0]"
   ]
  },
  {
   "cell_type": "code",
   "execution_count": 44,
   "id": "023176a8",
   "metadata": {},
   "outputs": [
    {
     "name": "stdout",
     "output_type": "stream",
     "text": [
      "University approved by UGC\n",
      "26\n",
      "i\n",
      "e\n",
      "n\n",
      "a\n",
      "i\n",
      "a\n",
      "e\n",
      "b\n",
      "U\n",
      "C\n"
     ]
    }
   ],
   "source": [
    "name = \"University approved by UGC\"\n",
    "print(name)\n",
    "print(len(name))\n",
    "print(name[2])\n",
    "print(name[4])\n",
    "print(name[1])\n",
    "print(name[11])\n",
    "print(name[7])\n",
    "print(name[-15])\n",
    "print(name[-9])\n",
    "print(name[-6])\n",
    "print(name[-3])\n",
    "print(name[-1])"
   ]
  },
  {
   "cell_type": "code",
   "execution_count": 41,
   "id": "1742fbd7",
   "metadata": {},
   "outputs": [
    {
     "data": {
      "text/plain": [
       "' '"
      ]
     },
     "execution_count": 41,
     "metadata": {},
     "output_type": "execute_result"
    }
   ],
   "source": [
    "name[10]"
   ]
  },
  {
   "cell_type": "code",
   "execution_count": null,
   "id": "ac118136",
   "metadata": {},
   "outputs": [],
   "source": []
  }
 ],
 "metadata": {
  "kernelspec": {
   "display_name": "Python 3 (ipykernel)",
   "language": "python",
   "name": "python3"
  },
  "language_info": {
   "codemirror_mode": {
    "name": "ipython",
    "version": 3
   },
   "file_extension": ".py",
   "mimetype": "text/x-python",
   "name": "python",
   "nbconvert_exporter": "python",
   "pygments_lexer": "ipython3",
   "version": "3.9.12"
  }
 },
 "nbformat": 4,
 "nbformat_minor": 5
}
