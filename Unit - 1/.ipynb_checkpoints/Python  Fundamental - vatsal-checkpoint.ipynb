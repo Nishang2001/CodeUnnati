{
 "cells": [
  {
   "cell_type": "markdown",
   "id": "f8f28690",
   "metadata": {},
   "source": [
    "# Python String"
   ]
  },
  {
   "cell_type": "code",
   "execution_count": 1,
   "id": "d1f343b8",
   "metadata": {},
   "outputs": [
    {
     "name": "stdout",
     "output_type": "stream",
     "text": [
      "2329101691472 2329101691472 2329101691472\n"
     ]
    }
   ],
   "source": [
    "a=b=c=10\n",
    "\n",
    "print(id(a),id(b),id(c))"
   ]
  },
  {
   "cell_type": "code",
   "execution_count": 8,
   "id": "43f4ec99",
   "metadata": {},
   "outputs": [
    {
     "data": {
      "text/plain": [
       "2329101691472"
      ]
     },
     "execution_count": 8,
     "metadata": {},
     "output_type": "execute_result"
    }
   ],
   "source": [
    "d=10\n",
    "id(d)"
   ]
  },
  {
   "cell_type": "code",
   "execution_count": 9,
   "id": "b3c0ee8b",
   "metadata": {},
   "outputs": [
    {
     "data": {
      "text/plain": [
       "2329101691504"
      ]
     },
     "execution_count": 9,
     "metadata": {},
     "output_type": "execute_result"
    }
   ],
   "source": [
    "d=11\n",
    "id(d)"
   ]
  },
  {
   "cell_type": "code",
   "execution_count": 11,
   "id": "ceb77ced",
   "metadata": {},
   "outputs": [
    {
     "name": "stdout",
     "output_type": "stream",
     "text": [
      "<class 'str'>\n"
     ]
    },
    {
     "data": {
      "text/plain": [
       "2329188230832"
      ]
     },
     "execution_count": 11,
     "metadata": {},
     "output_type": "execute_result"
    }
   ],
   "source": [
    "z=\"my name vatsal\"\n",
    "print(type(z))\n",
    "id(z)"
   ]
  },
  {
   "cell_type": "code",
   "execution_count": 20,
   "id": "59b9a874",
   "metadata": {},
   "outputs": [
    {
     "name": "stdout",
     "output_type": "stream",
     "text": [
      "y name va\n",
      "my name va\n",
      " vatsal\n",
      "\n"
     ]
    }
   ],
   "source": [
    "#string slice\n",
    "\n",
    "print(z[1:10])\n",
    "print(z[:10])\n",
    "print(z[7:])\n",
    "\n",
    "# ALWAY SLIDE FROM LEFT TO RIGHT\n",
    "#first small number then large\n",
    "# Example\n",
    "\n",
    "print(z[-1:-3])"
   ]
  },
  {
   "cell_type": "code",
   "execution_count": 28,
   "id": "63abb09f",
   "metadata": {},
   "outputs": [
    {
     "name": "stdout",
     "output_type": "stream",
     "text": [
      "Vatsal Agola \n",
      "Agola Vatsal \n",
      "Agola Vatsal \n"
     ]
    }
   ],
   "source": [
    "# String Formating\n",
    "\n",
    "str1=\"{} {} {}\".format(\"Vatsal\",\"Agola\",\"\")\n",
    "print(str1)\n",
    "\n",
    "str2=\"{a} {b} {c}\".format(b=\"Vatsal\",a=\"Agola\",c=\"\")\n",
    "print(str2)\n",
    "\n",
    "str2=\"{1} {0} {2}\".format(\"Vatsal\",\"Agola\",\"\")\n",
    "print(str2)"
   ]
  },
  {
   "cell_type": "markdown",
   "id": "25594147",
   "metadata": {},
   "source": [
    "# Python list"
   ]
  },
  {
   "cell_type": "code",
   "execution_count": 36,
   "id": "4e739523",
   "metadata": {},
   "outputs": [
    {
     "name": "stdout",
     "output_type": "stream",
     "text": [
      "[1, 'raj', 'jay', 5, 4]\n",
      "raj\n",
      "4\n",
      "[1, 'raj', 'jay']\n",
      "[1, 'raj', 10, 5, 4]\n",
      "<class 'int'>\n",
      "<class 'str'>\n"
     ]
    }
   ],
   "source": [
    "l=[1,'raj','jay',5,4]\n",
    "\n",
    "print(l)\n",
    "print(l[1])\n",
    "print(l[-1])\n",
    "print(l[0:3])\n",
    "\n",
    "#Update List\n",
    "l[2]=10\n",
    "print(l)\n",
    "\n",
    "#print Type by index\n",
    "print(type(l[0]))\n",
    "print(type(l[1]))\n",
    "\n"
   ]
  },
  {
   "cell_type": "markdown",
   "id": "08e46992",
   "metadata": {},
   "source": [
    "# Tuples"
   ]
  },
  {
   "cell_type": "code",
   "execution_count": 40,
   "id": "6464e266",
   "metadata": {},
   "outputs": [
    {
     "data": {
      "text/plain": [
       "(1, 'raj', 'jay', 5, 4, 1, 'raj', 'jay', 5, 4)"
      ]
     },
     "execution_count": 40,
     "metadata": {},
     "output_type": "execute_result"
    }
   ],
   "source": [
    "# tuples are immutable datatype\n",
    "#all  operations are same as list\n",
    "\n",
    "tpl1=(1,'raj','jay',5,4)\n",
    "tpl2=(2,3,4)\n",
    "\n",
    "tpl1+tpl2\n",
    "tpl1*2"
   ]
  },
  {
   "cell_type": "markdown",
   "id": "d0af36bb",
   "metadata": {},
   "source": [
    "# Dictionary"
   ]
  },
  {
   "cell_type": "code",
   "execution_count": 55,
   "id": "83c6c4e6",
   "metadata": {},
   "outputs": [
    {
     "name": "stdout",
     "output_type": "stream",
     "text": [
      "{1: 'Vinayak', 2: 'jay', 3: 'Raj'}\n",
      "Vinayak\n",
      "vatsal\n"
     ]
    },
    {
     "ename": "NameError",
     "evalue": "name 'key' is not defined",
     "output_type": "error",
     "traceback": [
      "\u001b[1;31m---------------------------------------------------------------------------\u001b[0m",
      "\u001b[1;31mNameError\u001b[0m                                 Traceback (most recent call last)",
      "Input \u001b[1;32mIn [55]\u001b[0m, in \u001b[0;36m<cell line: 13>\u001b[1;34m()\u001b[0m\n\u001b[0;32m     10\u001b[0m a\u001b[38;5;241m=\u001b[39m{\u001b[38;5;124m\"\u001b[39m\u001b[38;5;124mone\u001b[39m\u001b[38;5;124m\"\u001b[39m:\u001b[38;5;124m\"\u001b[39m\u001b[38;5;124mvatsal\u001b[39m\u001b[38;5;124m\"\u001b[39m,\u001b[38;5;124m\"\u001b[39m\u001b[38;5;124mtwo\u001b[39m\u001b[38;5;124m\"\u001b[39m:\u001b[38;5;124m\"\u001b[39m\u001b[38;5;124mjay\u001b[39m\u001b[38;5;124m\"\u001b[39m,\u001b[38;5;124m\"\u001b[39m\u001b[38;5;124mthree\u001b[39m\u001b[38;5;124m\"\u001b[39m:\u001b[38;5;124m\"\u001b[39m\u001b[38;5;124mRaj\u001b[39m\u001b[38;5;124m\"\u001b[39m}\n\u001b[0;32m     11\u001b[0m \u001b[38;5;28mprint\u001b[39m(a[\u001b[38;5;124m'\u001b[39m\u001b[38;5;124mone\u001b[39m\u001b[38;5;124m'\u001b[39m])\n\u001b[1;32m---> 13\u001b[0m \u001b[38;5;28mprint\u001b[39m(\u001b[43mkey\u001b[49m(a))\n",
      "\u001b[1;31mNameError\u001b[0m: name 'key' is not defined"
     ]
    }
   ],
   "source": [
    "a={1:\"vatsal\",2:\"jay\",3:\"Raj\"}\n",
    "\n",
    "#update\n",
    "a[1]=\"Vinayak\"\n",
    "print(a)\n",
    "\n",
    "#indexing\n",
    "print(a[1])\n",
    "\n",
    "a={\"one\":\"vatsal\",\"two\":\"jay\",\"three\":\"Raj\"}\n",
    "print(a['one'])\n"
   ]
  },
  {
   "cell_type": "code",
   "execution_count": null,
   "id": "f5c4121f",
   "metadata": {},
   "outputs": [],
   "source": []
  }
 ],
 "metadata": {
  "kernelspec": {
   "display_name": "Python 3 (ipykernel)",
   "language": "python",
   "name": "python3"
  },
  "language_info": {
   "codemirror_mode": {
    "name": "ipython",
    "version": 3
   },
   "file_extension": ".py",
   "mimetype": "text/x-python",
   "name": "python",
   "nbconvert_exporter": "python",
   "pygments_lexer": "ipython3",
   "version": "3.9.12"
  }
 },
 "nbformat": 4,
 "nbformat_minor": 5
}
